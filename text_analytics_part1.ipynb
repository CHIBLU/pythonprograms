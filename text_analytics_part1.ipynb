{
 "cells": [
  {
   "cell_type": "markdown",
   "id": "794243c0",
   "metadata": {},
   "source": [
    "# Text Analytics Coursework -- Tasks 1.1 to 1.3\n",
    "\n",
    "# Instructions:\n",
    "\n",
    "This notebook is forms the first part of your coursework assignment for Text Analytics in Spring 2025. You will need to read the instructions below and complete numbered tasks indicated by \"TASK n\". To complete the tasks, you will write code or explanations between the comments \"#WRITE YOUR ANSWER HERE\" and \"#END OF ANSWER\". For example:\n",
    "\n",
    "TASK 0: Complete the function below to output \"hello world\". \n"
   ]
  },
  {
   "cell_type": "code",
   "execution_count": 2,
   "id": "5486ee90",
   "metadata": {},
   "outputs": [
    {
     "name": "stdout",
     "output_type": "stream",
     "text": [
      "hello world\n"
     ]
    }
   ],
   "source": [
    "def demo_fun():\n",
    "    # WRITE YOUR ANSWER HERE\n",
    "    print(\"hello world\")\n",
    "    # END OF ANSWER\n",
    "\n",
    "### DO NOT MODIFY\n",
    "demo_fun()\n",
    "###"
   ]
  },
  {
   "cell_type": "markdown",
   "id": "a422f8fe",
   "metadata": {},
   "source": [
    "There is also some code in the cell that should not be modified. This code saves your results to file in the correct format, which is necessary for us to be able to mark your answers. Before you submit your notebook, please make sure this code has not been modified, then restart your kernel, clear all cell outputs, run all of your code once again, then save the notebook. \n",
    "\n",
    "Please note:\n",
    "  * The notebook you upload must include all the saved cell output after running all cells.\n",
    "  * The notebook code must be complete so that it reproduces all your output when we run it. \n",
    "  * For this coursework, we recommend that you use your virtual environment that you created for the labs. The packages you need are: numpy, scipy, nltk, pytorch, transformers and datasets (from HuggingFace), pandas, matplotlib and scikit-learn. \n",
    "\n",
    "## Marking guidelines:\n",
    "1. This notebook is worth 32% of the marks for the Text Analytics assignment.\n",
    "1. The number of marks for each task is shown alongside the task.\n",
    "1. We will evaluate the output of your code after running it, and marks will be awarded based on how well the output matches the task's instructions. \n",
    "1. We will give partial marks for incomplete or partially correct answers. \n",
    "1. We do not give additional marks for code style or comments, but clear code will help us to understand what you have done so that we can award partial marks where necessary. \n",
    "1. Unless the task asks you to implement something from scratch, there is no penalty for using software libraries in your implementation.\n",
    "\n",
    "## Support:\n",
    "\n",
    "The main source of support will be during the lab sessions. The TAs and lecturers will help you with questions about the lectures, the code provided for you in this notebook, and general questions about the topics we cover. For the assessed tasks, they can only answer clarifying questions about what you have to do. Please email Edwin if you have any other queries edwin.simpson@bristol.ac.uk and/or post your query to the Teams channel for this unit.\n",
    "\n",
    "## Deadline:\n",
    "\n",
    "The notebook must be submitted along with the second notebook on Blackboard before **Monday 28th April at 13.00**. \n",
    "\n",
    "## Submission:\n",
    "\n",
    "For this part of the assignment, please zip up the folder containing this file and the 'outputs' directory, containing the output from this notebook as .csv files. Please name your notebook file like this:\n",
    "   * Name this notebook 'text_analytics_part1_\\<student number\\>.ipynb'. Replace '\\<student number\\>' with your student number, which consists only of digits beginning with '2'. \n",
    "   * We mark anonymously, so please don't include your name in the notebook.\n",
    "\n",
    "You can submit the file on Blackboard to the submission point \"Text Analytics Part 1 Notebook\". Remember that the assignment also has parts 2 and 3, described in the PDF file on Blackboard."
   ]
  },
  {
   "cell_type": "markdown",
   "id": "54ff04e2",
   "metadata": {},
   "source": [
    "# Setup: random seeds\n",
    "\n",
    "Each student will work with slightly different data splits and model weights, which will be determined by setting your 'random seed'. \n",
    "We will check that your results come from using your random seed. Please set the seed in the cell below by changing the value of 'my_student_number' to your own student number (not your username, the number you can see on eVision that contains only digits). \n",
    "\n",
    "Using the correct seed ensures that your results are reproducible when we rerun your notebook."
   ]
  },
  {
   "cell_type": "code",
   "execution_count": 3,
   "id": "80bd735e",
   "metadata": {},
   "outputs": [],
   "source": [
    "import torch\n",
    "import random\n",
    "import numpy as np\n",
    "\n",
    "def set_seed(seed: int = 42):\n",
    "    random.seed(seed)  # Python's built-in random module\n",
    "    np.random.seed(seed)  # NumPy\n",
    "    torch.manual_seed(seed)  # PyTorch CPU\n",
    "    torch.cuda.manual_seed(seed)  # PyTorch GPU (if available)\n",
    "    torch.cuda.manual_seed_all(seed)  # Multi-GPU\n",
    "    torch.backends.cudnn.deterministic = True  # Ensure deterministic behavior\n",
    "    torch.backends.cudnn.benchmark = False  # Disable benchmark mode for reproducibility\n",
    "\n",
    "### SET YOUR SEED TO YOUR STUDENT NUMBER HERE\n",
    "my_student_number = 2604090\n",
    "set_seed(my_student_number)"
   ]
  },
  {
   "cell_type": "markdown",
   "id": "2877d086",
   "metadata": {},
   "source": [
    "# Setup: loading the data\n",
    "\n",
    "Let's make a folder to save the output of your work:"
   ]
  },
  {
   "cell_type": "code",
   "execution_count": 4,
   "id": "60bd9213",
   "metadata": {},
   "outputs": [],
   "source": [
    "import os\n",
    "import pandas as pd\n",
    "os.makedirs('./outputs', exist_ok=True)\n"
   ]
  },
  {
   "cell_type": "markdown",
   "id": "f79fc2c4",
   "metadata": {},
   "source": [
    "Now, let's load some more packages we will need later:"
   ]
  },
  {
   "cell_type": "code",
   "execution_count": 5,
   "id": "annoying-ethiopia",
   "metadata": {},
   "outputs": [],
   "source": [
    "%load_ext autoreload\n",
    "%autoreload 2\n",
    "\n",
    "# Use HuggingFace's datasets library to access the Emotion dataset\n",
    "from datasets import load_dataset\n",
    "import numpy as np\n",
    "from sklearn.model_selection import train_test_split "
   ]
  },
  {
   "cell_type": "markdown",
   "id": "09e90e82-bbdb-4532-91b1-58229d4f1043",
   "metadata": {},
   "source": [
    "\n",
    "The dataset classifies paragraphs taken from corporate disclosures that discuss climate-related issues. It classifiers them into \"risk\" (0), \"neutral\" (1) or \"opportunity\" (2) representing the sentiment of the paragraph.\n",
    "\n",
    "First we need to load the data. The data is already split into train, validation and test. The _validation_ set (also called 'development' set or 'devset') can be used to compute performance of your model when tuning hyperparameters, optimising combinations of features, or looking at the errors your model makes before improving it. This allows you to hold out the test set (i.e., not to look at it at all when developing your method) to give a fair evaluation of the model and how well it generalises to new examples. This avoids tuning the model to specific examples in the test set. An alternative approach to validation is to not use a single fixed validation set, but instead use [cross validation](https://scikit-learn.org/stable/modules/cross_validation.html). "
   ]
  },
  {
   "cell_type": "code",
   "execution_count": 6,
   "id": "efaf1096-acce-4226-a172-5357f49e91c1",
   "metadata": {},
   "outputs": [
    {
     "name": "stdout",
     "output_type": "stream",
     "text": [
      "Training dataset with 800 instances loaded\n",
      "Development/validation dataset with 200 instances loaded\n"
     ]
    }
   ],
   "source": [
    "cache_dir = \"./data_cache\"\n",
    "\n",
    "# load the original training set from HuggingFace\n",
    "train_dataset = load_dataset(\n",
    "    \"climatebert/climate_sentiment\",\n",
    "    split=\"train\",\n",
    "    cache_dir=cache_dir,\n",
    ")\n",
    "\n",
    "# we're going to create a new validation set by splitting the data\n",
    "dataset_splits = train_dataset.train_test_split(test_size=0.2)\n",
    "train_dataset = dataset_splits[\"train\"]\n",
    "val_dataset = dataset_splits[\"test\"]\n",
    "\n",
    "train_texts = np.array(train_dataset[\"text\"])\n",
    "val_texts = np.array(val_dataset[\"text\"])\n",
    "\n",
    "train_labels = np.array(train_dataset[\"label\"])\n",
    "val_labels = np.array(val_dataset[\"label\"])\n",
    "\n",
    "print(f\"Training dataset with {len(train_texts)} instances loaded\")\n",
    "print(f\"Development/validation dataset with {len(val_texts)} instances loaded\")\n",
    "\n",
    "### DO NOT MODIFY\n",
    "# save gold labels to file\n",
    "pd.DataFrame(val_labels).to_csv('./outputs/val_labels.csv')"
   ]
  },
  {
   "cell_type": "markdown",
   "id": "38916c42",
   "metadata": {},
   "source": [
    "In this notebook, you're going to build three different classifiers for this dataset, then compare how they work, and analyse the results. We are going to start by implementing a naïve Bayes classifier from scratch. \n",
    "\n",
    "We are going to begin by initialising some useful variables and doing some very simple pre-processing using CountVectorizer."
   ]
  },
  {
   "cell_type": "code",
   "execution_count": 7,
   "id": "5fb3e757",
   "metadata": {},
   "outputs": [
    {
     "name": "stderr",
     "output_type": "stream",
     "text": [
      "C:\\Users\\suhas\\anaconda3\\Lib\\site-packages\\sklearn\\feature_extraction\\text.py:521: UserWarning: The parameter 'token_pattern' will not be used since 'tokenizer' is not None'\n",
      "  warnings.warn(\n"
     ]
    }
   ],
   "source": [
    "from sklearn.feature_extraction.text import CountVectorizer\n",
    "from nltk import word_tokenize\n",
    "\n",
    "num_classes = 3\n",
    "\n",
    "def preprocess(train_texts):\n",
    "    vectorizer = CountVectorizer(ngram_range=(2,2), tokenizer=word_tokenize)\n",
    "    X = vectorizer.fit_transform(train_texts).toarray()\n",
    "    num_features = X.shape[1]\n",
    "\n",
    "    X_val = vectorizer.transform(val_texts).toarray()\n",
    "\n",
    "    return X, X_val, vectorizer, num_features\n",
    "\n",
    "X, X_val, vectorizer, num_features = preprocess(train_texts)"
   ]
  },
  {
   "cell_type": "markdown",
   "id": "9cb1f7d1",
   "metadata": {},
   "source": [
    "## TASK 1.1a\n",
    "\n",
    "Complete the function below to compute the class priors, $p(y_n = c)$ for each class label $c$, where $y_n$ is the class label of document $n$. Do not use the Sklearn implementation to do this, but implement it yourself, e.g., using Numpy functions. The function must output the class priors as a list or Numpy array containing the probabilities. You do not need to apply any smoothing or regularisation.    (3 marks)"
   ]
  },
  {
   "cell_type": "code",
   "execution_count": 8,
   "id": "79e7da69",
   "metadata": {},
   "outputs": [
    {
     "name": "stdout",
     "output_type": "stream",
     "text": [
      "[0.36    0.39375 0.24625]\n"
     ]
    }
   ],
   "source": [
    "def compute_class_priors(texts, labels):\n",
    "    priors = np.zeros(num_classes)\n",
    "### WRITE YOUR ANSWER HERE\n",
    "    for c in range(num_classes):\n",
    "        priors[c] = np.sum(labels == c)\n",
    "    priors = priors / len(labels)\n",
    "    ### END OF ANSWER\n",
    "    return priors\n",
    "\n",
    "\n",
    "class_priors = compute_class_priors(train_texts, train_labels)\n",
    "print(class_priors)\n",
    "\n",
    "### DO NOT MODIFY\n",
    "pd.DataFrame(class_priors).to_csv('./outputs/11a_class_priors.csv')"
   ]
  },
  {
   "cell_type": "markdown",
   "id": "3bc8c63e",
   "metadata": {},
   "source": [
    "## TASK 1.1b\n",
    "\n",
    "Complete the function below to extract n-gram features from the text, then compute the liklihood $p(x_{ni} = w | y_n = c)$ that the $i$ th n-gram in document $n$ is $w$, given that the class of $n$ is $c$. Again, do not use the Sklearn implementation to do this, but implement it yourself, e.g., using Numpy functions. The function must output the likelihoods as a 2D Numpy array containing probabilities. You should apply smoothing by adding counts of +1 to the counts of each feature.  (3 marks)"
   ]
  },
  {
   "cell_type": "code",
   "execution_count": 9,
   "id": "91d8722e",
   "metadata": {},
   "outputs": [
    {
     "name": "stdout",
     "output_type": "stream",
     "text": [
      "Likelihoods shape: (34111, 3)\n"
     ]
    }
   ],
   "source": [
    "def compute_feature_likelihoods(X, labels):\n",
    "\n",
    "    likelihoods = np.ones((num_features, num_classes))  # a 2D numpy array where you can store the likelihoods. Note that all values are initialised to one.\n",
    "\n",
    "    ### WRITE YOUR ANSWER HERE\n",
    "    for c in range(num_classes):\n",
    "        X_c = X[labels == c]\n",
    "        feature_count = np.sum(X_c, axis=0)\n",
    "        total_count = np.sum(feature_count) + num_features\n",
    "        likelihoods[:, c] = (feature_count + 1) / total_count\n",
    "\n",
    "\n",
    "    ### END OF ANSWER\n",
    "    return likelihoods\n",
    "\n",
    "likelihoods = compute_feature_likelihoods(X, train_labels)\n",
    "print(\"Likelihoods shape:\", likelihoods.shape)\n",
    "\n",
    "\n",
    "### DO NOT MODIFY\n",
    "pd.DataFrame(likelihoods).to_csv('./outputs/11b_likelihoods.csv')"
   ]
  },
  {
   "cell_type": "markdown",
   "id": "8f6a867a",
   "metadata": {},
   "source": [
    "Now, we are going to use the code in the next cell to compute the log probabilities of each class for each text in the validation set. This code will use the previous functions you implemented, compute_class_priors and compute_feature_likelihoods. The log probabilities will be stored in the 'predictions' array."
   ]
  },
  {
   "cell_type": "code",
   "execution_count": 10,
   "id": "30194a65",
   "metadata": {},
   "outputs": [
    {
     "name": "stdout",
     "output_type": "stream",
     "text": [
      "[[-2.12779066e-05 -1.07578732e+01 -2.15170768e+01]\n",
      " [-4.07290500e-04 -7.80618754e+00 -2.50005580e+01]\n",
      " [-9.72928694e-06 -1.15403748e+01 -4.21595116e+01]\n",
      " [-1.58537900e+01 -1.31178581e-07 -2.08002012e+01]\n",
      " [-1.15778182e-05 -1.20113457e+01 -1.21102434e+01]\n",
      " [-3.10613904e+01 -5.68434189e-14 -3.23864882e+01]\n",
      " [-1.46615434e-07 -2.12794292e+01 -1.57393715e+01]\n",
      " [-1.67035717e+01 -2.49234272e+01 -5.56990472e-08]\n",
      " [-1.02819664e+01 -7.71844701e-01 -6.20257342e-01]\n",
      " [-5.06280125e+01 -4.16234288e+01  0.00000000e+00]\n",
      " [-2.84751075e+01 -3.66640052e-11 -2.40404033e+01]\n",
      " [-8.95842186e+00 -1.76858468e-04 -9.94028204e+00]\n",
      " [-2.54735501e+01 -1.29822142e+01 -2.30090205e-06]\n",
      " [-1.01107379e+01 -4.09721308e-04 -7.90472319e+00]\n",
      " [ 0.00000000e+00 -3.19761479e+01 -3.43999238e+01]\n",
      " [-1.81925567e-02 -4.04736712e+00 -7.48799346e+00]\n",
      " [-1.17833761e+01 -8.42690076e-06 -1.40430262e+01]\n",
      " [-1.80043894e-01 -1.89287196e+00 -4.25960431e+00]\n",
      " [-4.43063370e-03 -5.42275051e+00 -1.20496788e+01]\n",
      " [-6.23033865e+00 -1.97174524e-03 -1.37981030e+01]\n",
      " [-1.60537036e+01 -8.04119622e-07 -1.41758088e+01]\n",
      " [-4.47257784e-02 -3.23869607e+00 -5.39806443e+00]\n",
      " [-1.94701709e+01 -5.71889584e-02 -2.88985271e+00]\n",
      " [-2.13570111e-01 -1.64867538e+00 -2.24080651e+01]\n",
      " [-4.08970976e+00 -1.68858650e-02 -1.90666648e+01]\n",
      " [-1.22981396e+01 -9.64725496e+00 -6.91652726e-05]\n",
      " [-4.61047149e+01 -3.74835662e-02 -3.30253592e+00]\n",
      " [-3.79879026e+01  0.00000000e+00 -3.76634394e+01]\n",
      " [-2.62639121e+00 -7.63077496e-02 -6.78560047e+00]\n",
      " [-9.33372121e+00 -4.41494802e+00 -1.22584037e-02]\n",
      " [-4.44541377e+00 -3.86146328e-02 -3.64404599e+00]\n",
      " [-3.55685549e+00 -3.37572510e-02 -5.36757294e+00]\n",
      " [-2.05670375e+00 -1.38927491e-01 -6.30120865e+00]\n",
      " [-1.54173219e-04 -1.20752820e+01 -8.81517688e+00]\n",
      " [-9.14253309e+00 -1.90717398e-03 -6.32089094e+00]\n",
      " [-2.05670979e+01 -1.38109513e+01 -1.00573914e-06]\n",
      " [-9.74434877e+00 -3.04278310e-03 -5.81598854e+00]\n",
      " [-3.76956995e+01  0.00000000e+00 -3.48851492e+01]\n",
      " [-2.28373529e+00 -1.07477041e-01 -3.12907776e+01]\n",
      " [ 0.00000000e+00 -3.41252126e+01 -4.71311885e+01]\n",
      " [-2.80188136e+01 -2.95585778e-12 -2.68169336e+01]\n",
      " [-3.61739577e+00 -1.48802915e+00 -2.91248135e-01]\n",
      " [-2.95895518e+01 -1.34981901e+01 -1.37344364e-06]\n",
      " [-1.64061963e+01 -1.41347763e+01 -8.01651311e-07]\n",
      " [-2.81404569e+01 -2.66083196e+01 -3.35376171e-12]\n",
      " [-2.25046693e+00 -1.20962791e-01 -4.75796595e+00]\n",
      " [-6.68495461e+00 -2.14080157e-03 -7.02548057e+00]\n",
      " [-1.60644942e+01 -5.81039656e+00 -3.00084520e-03]\n",
      " [-2.24214937e-03 -9.35227050e+00 -6.14095370e+00]\n",
      " [-2.30642566e+01 -1.58183734e+01 -1.35044615e-07]\n",
      " [-1.34493774e+01 -1.58259922e-03 -6.45039029e+00]\n",
      " [-4.76693284e-01 -9.78680056e-01 -5.69573540e+00]\n",
      " [-8.20336161e+00 -8.50254470e-03 -4.80450341e+00]\n",
      " [-5.69863401e-04 -7.51009748e+00 -1.07166196e+01]\n",
      " [-2.48367419e+01 -1.72843599e+01 -3.11691792e-08]\n",
      " [-5.63844715e-01 -1.11656719e+00 -2.26740060e+00]\n",
      " [-3.68926298e+01 -3.35074876e+01  0.00000000e+00]\n",
      " [-4.04074077e+00 -4.54967354e-02 -3.61589533e+00]\n",
      " [-7.61701813e-12 -2.56030527e+01 -3.10816849e+01]\n",
      " [-1.58790149e+00 -2.36975088e-01 -5.01538816e+00]\n",
      " [-1.69659998e+01 -1.02906578e+01 -3.39921826e-05]\n",
      " [-2.30871665e+01 -1.29148291e+01 -2.46137688e-06]\n",
      " [-1.56434959e+01 -2.27407781e-07 -1.65235009e+01]\n",
      " [-5.65716754e+00 -6.07846749e-01 -7.94105169e-01]\n",
      " [-3.13938475e+01 -1.56215744e+01 -1.64299649e-07]\n",
      " [-9.22653592e+00 -1.25852996e+01 -1.01820624e-04]\n",
      " [-6.21259817e+00 -2.77069305e+00 -6.68052119e-02]\n",
      " [-1.49235836e-05 -1.11125807e+01 -2.32414415e+01]\n",
      " [-3.14818434e-01 -1.35171083e+00 -4.48459246e+00]\n",
      " [-1.80363822e+01 -1.51759991e-08 -2.14363150e+01]\n",
      " [-1.59300418e+01 -2.30237428e+00 -1.05384076e-01]\n",
      " [-1.42199334e+01 -1.99172724e+00 -1.46715280e-01]\n",
      " [-4.05692743e+00 -1.84265888e-02 -6.95300616e+00]\n",
      " [-7.46830230e+00 -1.37972757e-03 -7.12109765e+00]\n",
      " [-2.90506399e+01 -1.27337587e+01 -2.94984733e-06]\n",
      " [-7.00303912e-01 -6.86447358e-01 -8.49526739e+00]\n",
      " [ 0.00000000e+00 -3.44856319e+01 -3.96012209e+01]\n",
      " [ 0.00000000e+00 -4.50194133e+01 -5.68664634e+01]\n",
      " [-2.38136742e+01 -1.23136352e+01 -4.49015715e-06]\n",
      " [-4.59043374e-01 -1.10930369e+00 -3.26168814e+00]\n",
      " [-3.40007344e-05 -1.02967150e+01 -1.51765486e+01]\n",
      " [-6.16586529e-01 -7.80287455e-01 -6.24408436e+00]\n",
      " [-5.49656949e+00 -2.49195969e+00 -9.08534355e-02]\n",
      " [ 0.00000000e+00 -1.20743644e+02 -1.32113055e+02]\n",
      " [-8.47726796e+00 -4.61761564e+00 -1.01356560e-02]\n",
      " [-5.73615724e+00 -3.29212175e+00 -4.12408691e-02]\n",
      " [-6.24898688e-05 -9.68053736e+00 -3.47894156e+01]\n",
      " [ 0.00000000e+00 -4.40323924e+01 -5.54765805e+01]\n",
      " [-1.64058468e+01 -1.12882503e-06 -1.37630798e+01]\n",
      " [-1.44846752e+01 -5.13063299e-07 -2.07991304e+01]\n",
      " [ 0.00000000e+00 -4.66325374e+01 -6.12736102e+01]\n",
      " [-3.90774794e+01 -4.60615871e+01  0.00000000e+00]\n",
      " [-2.00648290e-01 -1.70484892e+00 -2.23387901e+01]\n",
      " [ 0.00000000e+00 -3.59057607e+01 -4.91856185e+01]\n",
      " [-1.19365992e+01 -9.26148709e-06 -1.28166928e+01]\n",
      " [-1.65224007e+01 -8.81968574e-05 -9.33674041e+00]\n",
      " [-5.15141328e+01  0.00000000e+00 -5.24056498e+01]\n",
      " [-2.93024737e+01 -9.97578255e+00 -4.65139036e-05]\n",
      " [-1.23545115e+01 -1.39012740e+01 -5.22808853e-06]\n",
      " [-1.10521821e+01 -1.36095301e-01 -2.06180052e+00]\n",
      " [ 0.00000000e+00 -5.81790775e+01 -8.29104631e+01]\n",
      " [-1.10974102e+01 -1.54205523e-05 -1.51288492e+01]\n",
      " [-3.76651004e+00 -3.44772172e-02 -4.53219902e+00]\n",
      " [-3.20892171e+01  0.00000000e+00 -3.47580717e+01]\n",
      " [-1.75739527e+01 -9.77794802e+00 -5.67129275e-05]\n",
      " [-1.62562071e+01 -8.46232228e-06 -1.16902372e+01]\n",
      " [-8.76326653e+01  0.00000000e+00 -6.64671659e+01]\n",
      " [-2.35903276e+01 -5.68434189e-11 -3.27226476e+01]\n",
      " [-3.17082509e+00 -4.29841536e-02 -9.16656261e+00]\n",
      " [-2.46117408e+01 -2.90863568e-07 -1.50504820e+01]\n",
      " [-1.49458663e+00 -2.65244545e-01 -4.75131535e+00]\n",
      " [-9.04759645e-09 -1.85207673e+01 -3.57517381e+01]\n",
      " [-2.57521110e+01 -3.02473995e-06 -1.27086891e+01]\n",
      " [ 0.00000000e+00 -3.21095378e+01 -4.37438047e+01]\n",
      " [-6.67890349e-03 -5.27624779e+00 -6.47268305e+00]\n",
      " [-3.24727758e+01 -3.43151754e-04 -7.97750935e+00]\n",
      " [-1.96172234e+01 -5.00500619e-09 -2.00388342e+01]\n",
      " [-9.64950896e+00 -8.95184266e+00 -1.93974341e-04]\n",
      " [-2.44708982e+01 -2.89062880e-01 -1.38216334e+00]\n",
      " [-9.83715235e-02 -2.37449467e+00 -7.37556762e+00]\n",
      " [-2.67088666e+01 -1.43760940e+01 -5.70878569e-07]\n",
      " [-3.34935655e-04 -8.00173963e+00 -2.48423681e+01]\n",
      " [-6.35477043e+00 -1.76471466e-03 -1.06077271e+01]\n",
      " [-1.08537050e+01 -1.13336149e+00 -3.88561588e-01]\n",
      " [-9.16244057e-04 -7.14926466e+00 -8.94503429e+00]\n",
      " [-1.58141301e+00 -4.48085209e+00 -2.44632826e-01]\n",
      " [ 0.00000000e+00 -6.74059005e+01 -6.65931931e+01]\n",
      " [-2.90513083e+01 -1.55182533e-11 -2.49038260e+01]\n",
      " [-2.86442356e+01 -8.70235461e-04 -7.04718182e+00]\n",
      " [-1.29502203e+01 -1.24237236e-05 -1.15081418e+01]\n",
      " [-8.59122754e+00 -1.55141165e+00 -2.38427626e-01]\n",
      " [-1.59068061e+01 -6.21596772e+00 -1.99940360e-03]\n",
      " [-3.66200667e+00 -1.23937678e-01 -2.39816938e+00]\n",
      " [-4.16843333e+01 -4.38744893e-04 -7.73181179e+00]\n",
      " [-3.00579178e+01 -1.13686838e-13 -3.21049033e+01]\n",
      " [-1.13652657e+01 -2.62642563e+00 -7.50987774e-02]\n",
      " [-4.55228205e+00 -3.28241732e-01 -1.31204820e+00]\n",
      " [-4.40817691e+00 -9.94848519e-01 -4.81196943e-01]\n",
      " [-7.28991108e+00 -9.94607805e-02 -2.36454395e+00]\n",
      " [-8.09417052e+00 -4.13774278e-01 -1.08309969e+00]\n",
      " [-3.27272608e+01 -2.62340317e-01 -1.46641690e+00]\n",
      " [-4.73874100e-01 -9.75726542e-01 -7.60901156e+00]\n",
      " [-1.83546051e+01 -8.87501301e-07 -1.39469666e+01]\n",
      " [-2.12277685e+01 -1.15280727e-08 -1.83322780e+01]\n",
      " [ 0.00000000e+00 -4.90683039e+01 -5.05362093e+01]\n",
      " [-3.02704848e-08 -1.73130940e+01 -4.07453398e+01]\n",
      " [-5.79173362e+00 -4.30937054e-03 -6.68668336e+00]\n",
      " [-5.46373233e-04 -7.51334979e+00 -1.45618029e+01]\n",
      " [-1.92989573e+00 -1.56844863e-01 -2.05976697e+01]\n",
      " [-4.66747443e-01 -7.56575442e+00 -9.87669447e-01]\n",
      " [-2.81007715e-08 -1.74087725e+01 -2.12469680e+01]\n",
      " [-1.18440366e+01 -9.94235197e+00 -5.52768366e-05]\n",
      " [ 0.00000000e+00 -5.43143361e+01 -6.53228085e+01]\n",
      " [-4.05319329e-02 -4.00315227e+00 -3.84140116e+00]\n",
      " [-2.82162401e-01 -2.67981377e+00 -1.73006506e+00]\n",
      " [-1.92037086e+01 -6.20886453e-08 -1.66711598e+01]\n",
      " [-1.58274171e+01 -1.49095058e-07 -1.79913975e+01]\n",
      " [-9.90626783e+00 -3.23997207e+00 -4.00044643e-02]\n",
      " [-1.97219472e+00 -1.51632130e-01 -6.47302768e+00]\n",
      " [-1.43916158e+01 -7.03243566e-01 -6.83152827e-01]\n",
      " [-1.18879712e+00 -5.96022161e-01 -1.93507454e+00]\n",
      " [-5.86038092e+00 -2.85628300e-03 -1.30977160e+01]\n",
      " [-8.05695322e+00 -1.14139892e-03 -7.10151366e+00]\n",
      " [-7.34868447e+00 -1.17537520e-02 -4.50609364e+00]\n",
      " [-1.71849531e+00 -1.11835343e+00 -7.05530070e-01]\n",
      " [-2.03840272e-03 -6.29339188e+00 -8.57988220e+00]\n",
      " [-1.64933697e+01 -6.87102784e-08 -2.95833828e+01]\n",
      " [-1.27762377e+01 -9.37550945e+00 -8.76060338e-05]\n",
      " [-1.02599154e+00 -4.70209433e-01 -4.09308139e+00]\n",
      " [-3.35913471e+01 -2.27373675e-13 -2.90905447e+01]\n",
      " [-4.01470815e-01 -1.11366586e+00 -6.06960328e+00]\n",
      " [-3.34054565e+00 -8.82038531e-02 -3.01576850e+00]\n",
      " [-4.27511653e-03 -5.45709509e+00 -1.66073908e+01]\n",
      " [-1.97702135e+01 -1.12315328e+01 -1.32524198e-05]\n",
      " [-1.07014077e+01 -1.02344130e+01 -5.84278665e-05]\n",
      " [-3.38722168e+01 -1.20908610e+01 -5.61057038e-06]\n",
      " [-1.95507829e+00 -2.33778124e-01 -2.70441901e+00]\n",
      " [-4.15730056e+01 -4.32009983e-12 -2.61715444e+01]\n",
      " [-1.30739863e-12 -3.18217936e+01 -2.73539862e+01]\n",
      " [-1.28115862e+01 -2.76095045e-06 -1.72582676e+01]\n",
      " [-5.95661855e-03 -5.12623186e+00 -1.79450270e+01]\n",
      " [-1.38620935e+01 -9.54485927e-07 -3.16754763e+01]\n",
      " [-4.98308330e-04 -7.84938854e+00 -9.13158617e+00]\n",
      " [-2.09999171e+01 -1.25472972e+01 -3.55526083e-06]\n",
      " [-1.73332536e+01 -2.96682856e-08 -2.69396714e+01]\n",
      " [-3.40909275e+01  0.00000000e+00 -3.31079785e+01]\n",
      " [-9.02695727e+00 -1.20147154e-04 -1.81988168e+01]\n",
      " [-5.68434189e-14 -3.26277401e+01 -3.12815182e+01]\n",
      " [-1.53790407e-03 -6.47831228e+00 -1.49531007e+01]\n",
      " [-1.61932864e+01 -9.53237920e+00 -7.25623942e-05]\n",
      " [-3.73058357e+00 -2.43133600e-02 -1.00938547e+01]\n",
      " [-3.32306627e-10 -2.18249781e+01 -3.84641550e+01]\n",
      " [-8.62046464e-02 -2.66469232e+00 -4.34490347e+00]\n",
      " [ 0.00000000e+00 -7.34023998e+01 -7.61691906e+01]\n",
      " [-1.29310442e+01 -1.35058008e+00 -2.99879285e-01]\n",
      " [-7.95807864e-12 -2.56074308e+01 -2.84857952e+01]\n",
      " [-1.83306897e+01 -9.26349053e+00 -9.48392004e-05]\n",
      " [ 0.00000000e+00 -3.51313972e+01 -5.71704853e+01]\n",
      " [-2.96885148e+00 -5.27282917e-02 -1.97049230e+01]\n",
      " [-6.18726077e+00 -2.05756479e-03 -2.37142688e+01]]\n"
     ]
    }
   ],
   "source": [
    "from scipy.special import logsumexp\n",
    "\n",
    "\n",
    "def NB_classify(class_priors, likelihoods, X_val):\n",
    "\n",
    "    predictions = np.zeros((X_val.shape[0], num_classes))  # an empty numpy array to store the predictions in\n",
    "\n",
    "    sum_of_log_likelihoods = X_val.dot(np.log(likelihoods))\n",
    "    log_joint_prob = sum_of_log_likelihoods + np.log(class_priors)[None, :]\n",
    "    for n, doc in enumerate(X_val):\n",
    "        predictions[n, :] = log_joint_prob[n]\n",
    "        predictions[n, :] -= logsumexp(predictions[n, :])\n",
    "    return predictions\n",
    "\n",
    "predictions = NB_classify(class_priors, likelihoods, X_val)\n",
    "print(predictions)"
   ]
  },
  {
   "cell_type": "markdown",
   "id": "d25d91f5",
   "metadata": {},
   "source": [
    "Use the 'predictions' array above to compute and print the accuracy of the classifier on the validation set.   "
   ]
  },
  {
   "cell_type": "code",
   "execution_count": 11,
   "id": "c70cca90",
   "metadata": {},
   "outputs": [
    {
     "data": {
      "text/plain": [
       "0.73"
      ]
     },
     "execution_count": 11,
     "metadata": {},
     "output_type": "execute_result"
    }
   ],
   "source": [
    "from sklearn.metrics import accuracy_score\n",
    "\n",
    "accuracy_score(val_labels, np.argmax(predictions, axis=1))"
   ]
  },
  {
   "cell_type": "markdown",
   "id": "a322e627",
   "metadata": {},
   "source": [
    "## TASK 1.1c\n",
    "\n",
    "The simplicty of naïve Bayes means that we can quite easily interpret the model. In the code above, we used the functions you implemented, compute_feature_likelihoods and compute_class_priors, to train an NB classifier with our training set. Given this classifier, which are the five n-gram features that most strongly indicate that the document belongs to class 0? Store these features in the 'top_features' list below.    (4 marks)"
   ]
  },
  {
   "cell_type": "code",
   "execution_count": 12,
   "id": "b6369d13",
   "metadata": {},
   "outputs": [
    {
     "name": "stdout",
     "output_type": "stream",
     "text": [
      "['physical risks', 'weather events', 'extreme weather', 'caused by', 'impact our']\n"
     ]
    }
   ],
   "source": [
    "top_features = []\n",
    "\n",
    "### WRITE YOUR ANSWER HERE\n",
    "\n",
    "log_likelihoods = np.log(likelihoods)\n",
    "scores = log_likelihoods[:, 0] - np.max(log_likelihoods[:, 1:], axis=1)\n",
    "top_indices = np.argsort(scores)[-5:][::-1]\n",
    "feature_names = np.array(vectorizer.get_feature_names_out())\n",
    "top_features = feature_names[top_indices].tolist()\n",
    "\n",
    "### END OF ANSWER\n",
    "\n",
    "### DO NOT MODIFY\n",
    "print(top_features)\n",
    "pd.DataFrame(top_features).to_csv('./outputs/11c_top_feats.csv')\n",
    "###"
   ]
  },
  {
   "cell_type": "markdown",
   "id": "caecba31",
   "metadata": {},
   "source": [
    "Up to this point, the classifier used bigrams features extracted using CountVectorizer with the wordnet tokenizer. \n",
    "\n",
    "## TASK 1.1d\n",
    "\n",
    "Your task is to improve the naïve Bayes classifier by changing the preprocessing or features only. It is up to you to decide how many changes are needed to improve the classifier -- a single change may be enough to achieve a good result (and maximum marks) and you should only include steps that help performance. Complete the 'preprocess_improved' function below, and run the cell to compute accuracy of the improved classifier on the validation set.     (3 marks)"
   ]
  },
  {
   "cell_type": "code",
   "execution_count": 13,
   "id": "a4a80f2d",
   "metadata": {},
   "outputs": [
    {
     "name": "stderr",
     "output_type": "stream",
     "text": [
      "C:\\Users\\suhas\\anaconda3\\Lib\\site-packages\\sklearn\\feature_extraction\\text.py:521: UserWarning: The parameter 'token_pattern' will not be used since 'tokenizer' is not None'\n",
      "  warnings.warn(\n"
     ]
    },
    {
     "name": "stdout",
     "output_type": "stream",
     "text": [
      "0.77\n"
     ]
    }
   ],
   "source": [
    "def preprocess_improved(train_texts):\n",
    "    ### WRITE YOUR ANSWER HERE\n",
    "\n",
    "    vectorizer = CountVectorizer(ngram_range=(1,2), tokenizer=word_tokenize,stop_words='english')\n",
    "    X = vectorizer.fit_transform(train_texts).toarray()\n",
    "    num_features = X.shape[1]\n",
    "\n",
    "    X_val = vectorizer.transform(val_texts).toarray()\n",
    "\n",
    "    ### END OF ANSWER\n",
    "\n",
    "    return X, X_val, vectorizer, num_features\n",
    "\n",
    "X, X_val, vectorizer, num_features = preprocess_improved(train_texts)\n",
    "class_priors = compute_class_priors(train_texts, train_labels)\n",
    "likelihoods = compute_feature_likelihoods(X, train_labels)\n",
    "predictions = NB_classify(class_priors, likelihoods, X_val)\n",
    "predictions_nb = np.argmax(predictions, axis=1)\n",
    "\n",
    "### DO NOT MODIFY\n",
    "pd.DataFrame(predictions_nb).to_csv('./outputs/11d_improved_preds.csv')\n",
    "accuracy_improved = accuracy_score(val_labels, predictions_nb)\n",
    "print(accuracy_improved)\n",
    "###"
   ]
  },
  {
   "cell_type": "markdown",
   "id": "f4c60bcf",
   "metadata": {},
   "source": [
    "## TASK 1.2\n",
    "\n",
    "Below is an implementation of a neural network classifier that we can apply to the same dataset. However, there are some mistakes in the code and some poor choices in the choice of parameters and architecture. Your task is to fix the errors, make better parameter choices, and improve the model's performance. **Modify the code within the next cell** to improve the neural network classifier, then run it and compute its accuracy using the code in the cell after that.   (8 marks)"
   ]
  },
  {
   "cell_type": "code",
   "execution_count": 16,
   "id": "8091f8f2",
   "metadata": {},
   "outputs": [
    {
     "name": "stdout",
     "output_type": "stream",
     "text": [
      "Epoch: 1/10 Training Loss: 1.0667\n",
      "Epoch: 1/10 Validation Loss: 1.0517\n",
      "Epoch: 2/10 Training Loss: 0.9943\n",
      "Epoch: 2/10 Validation Loss: 1.0168\n",
      "Epoch: 3/10 Training Loss: 0.9146\n",
      "Epoch: 3/10 Validation Loss: 0.9529\n",
      "Epoch: 4/10 Training Loss: 0.8105\n",
      "Epoch: 4/10 Validation Loss: 0.8875\n",
      "Epoch: 5/10 Training Loss: 0.7047\n",
      "Epoch: 5/10 Validation Loss: 0.8386\n",
      "Epoch: 6/10 Training Loss: 0.5776\n",
      "Epoch: 6/10 Validation Loss: 0.7836\n",
      "Epoch: 7/10 Training Loss: 0.4906\n",
      "Epoch: 7/10 Validation Loss: 0.7586\n",
      "Epoch: 8/10 Training Loss: 0.4076\n",
      "Epoch: 8/10 Validation Loss: 0.7508\n",
      "Epoch: 9/10 Training Loss: 0.3459\n",
      "Epoch: 9/10 Validation Loss: 0.7340\n",
      "Epoch: 10/10 Training Loss: 0.2681\n",
      "Epoch: 10/10 Validation Loss: 0.7537\n",
      "0.685\n"
     ]
    }
   ],
   "source": [
    "### DO NOT MODIFY\n",
    "set_seed(my_student_number)\n",
    "###\n",
    "\n",
    "### WRITE YOUR ANSWER HERE: MODIFY THE CODE WITHIN THIS CELL\n",
    "\n",
    "from torch import nn\n",
    "from torch import optim\n",
    "from transformers import AutoTokenizer\n",
    "from torch.utils.data import DataLoader\n",
    "\n",
    "tokenizer = AutoTokenizer.from_pretrained(\"climatebert/distilroberta-base-climate-f\")  \n",
    "\n",
    "sequence_length = 64  # truncate all docs longer than this. Pad all docs shorter than this.\n",
    "batch_size = 32\n",
    "\n",
    "def tokenize_function(examples):\n",
    "    return tokenizer(\n",
    "        examples[\"text\"],  # Adjust the key based on your dataset structure\n",
    "        padding=\"max_length\",  # Ensures equal sequence lengths\n",
    "        truncation=True,       # Truncates longer sequences\n",
    "        max_length=sequence_length,        # Adjust as needed\n",
    "        return_tensors=\"pt\"\n",
    "    )\n",
    "\n",
    "tokenized_dataset = train_dataset.map(tokenize_function, batched=True)\n",
    "tokenized_dataset.set_format(type=\"torch\", columns=[\"input_ids\", \"attention_mask\", \"label\"])  # Adjust column names\n",
    "train_loader = DataLoader(tokenized_dataset, batch_size=batch_size, shuffle=True)\n",
    "\n",
    "tokenized_dataset = val_dataset.map(tokenize_function, batched=True)\n",
    "tokenized_dataset.set_format(type=\"torch\", columns=[\"input_ids\", \"attention_mask\", \"label\"])  # Adjust column names\n",
    "val_loader = DataLoader(tokenized_dataset, batch_size=batch_size, shuffle=False)\n",
    "\n",
    "class FFTextClassifier(nn.Module):\n",
    "\n",
    "    def __init__(self, vocab_size, sequence_length, num_classes, embedding_size=256, hidden_size=128):\n",
    "        super(FFTextClassifier, self).__init__()\n",
    "\n",
    "        self.embedding_size = embedding_size\n",
    "        self.sequence_length = sequence_length\n",
    "\n",
    "        self.embedding_layer = nn.Embedding(vocab_size, embedding_size)  # embedding layer\n",
    "        self.dropout = nn.Dropout(0.5)  # added dropout for regularization\n",
    "        self.hidden_layer = nn.Linear(embedding_size, hidden_size)  # note: we now use pooled input, not flattened\n",
    "        self.activation = nn.ReLU()\n",
    "        self.output_layer = nn.Linear(hidden_size, num_classes)\n",
    "\n",
    "    def forward(self, input_words):\n",
    "        embedded_words = self.embedding_layer(input_words)  # (batch, seq_len, embedding_size)\n",
    "\n",
    "        # Create padding mask from input ids (assumes padding token = 0)\n",
    "        mask = (input_words != 0).unsqueeze(-1).float()  # (batch, seq_len, 1)\n",
    "        masked_embed = embedded_words * mask\n",
    "        summed = masked_embed.sum(dim=1)  # sum over tokens\n",
    "        counts = mask.sum(dim=1).clamp(min=1)\n",
    "        pooled = summed / counts  # mean of non-padding embeddings\n",
    "\n",
    "        z = self.hidden_layer(pooled)\n",
    "        h = self.activation(z)\n",
    "        h = self.dropout(h)\n",
    "        output = self.output_layer(h)\n",
    "\n",
    "        return output\n",
    "\n",
    "    def run_training(self, train_dataloader, dev_dataloader):\n",
    "\n",
    "        num_epochs = 10\n",
    "        learning_rate = 1e-3\n",
    "\n",
    "        loss_fn = nn.CrossEntropyLoss()\n",
    "        optimizer = optim.Adam(self.parameters(), lr=learning_rate, weight_decay=1e-5)\n",
    "        dev_losses = []\n",
    "\n",
    "        for e in range(num_epochs):\n",
    "            train_losses = []\n",
    "            self.train()\n",
    "\n",
    "            for i, batch in enumerate(train_dataloader):\n",
    "                optimizer.zero_grad()\n",
    "                output = self(batch['input_ids'])\n",
    "                batch_loss = loss_fn(output, batch['label'])\n",
    "                batch_loss.backward()\n",
    "                optimizer.step()\n",
    "                train_losses.append(batch_loss.item())\n",
    "\n",
    "            print(\"Epoch: {}/{}\".format((e+1), num_epochs),\n",
    "                  \"Training Loss: {:.4f}\".format(np.mean(train_losses)))\n",
    "\n",
    "            self.eval()\n",
    "            val_losses_epoch = []\n",
    "\n",
    "            for dev_batch in dev_dataloader:\n",
    "                dev_output = self(dev_batch['input_ids'])\n",
    "                dev_loss = loss_fn(dev_output, dev_batch['label'])\n",
    "                val_losses_epoch.append(dev_loss.item())\n",
    "\n",
    "            dev_losses.append(np.mean(val_losses_epoch))\n",
    "\n",
    "            print(\"Epoch: {}/{}\".format((e+1), num_epochs),\n",
    "                  \"Validation Loss: {:.4f}\".format(dev_losses[-1]))\n",
    "\n",
    "        return dev_losses\n",
    "\n",
    "def predict_nn(trained_model, data_loader):\n",
    "    trained_model.eval()\n",
    "    pred_labs = []\n",
    "\n",
    "    for batch in data_loader:\n",
    "        test_output = trained_model(batch['input_ids'])\n",
    "        predicted_labels = test_output.argmax(1)\n",
    "        pred_labs.extend(predicted_labels.tolist())\n",
    "\n",
    "    return pred_labs\n",
    "\n",
    "vocab_size = max(tokenizer.get_vocab().values()) + 1\n",
    "nn_classifier_model = FFTextClassifier(vocab_size, sequence_length, num_classes)\n",
    "dev_losses = nn_classifier_model.run_training(train_loader, val_loader)\n",
    "\n",
    "predictions_nn = predict_nn(nn_classifier_model, val_loader)\n",
    "\n",
    "### END OF ANSWER\n",
    "\n",
    "### DO NOT MODIFY\n",
    "pd.DataFrame(predictions_nn).to_csv(\"./outputs/12_nn_preds.csv\")\n",
    "accuracy_nn = accuracy_score(val_labels, predictions_nn)\n",
    "print(accuracy_nn)\n",
    "###\n"
   ]
  },
  {
   "cell_type": "markdown",
   "id": "665ddf4e",
   "metadata": {},
   "source": [
    "We now explore the use of transformers for building a text classifier. First, let's look at how the process a document. We'll chose one at random from the training set:"
   ]
  },
  {
   "cell_type": "code",
   "execution_count": 17,
   "id": "54d2a23e",
   "metadata": {},
   "outputs": [],
   "source": [
    "### DO NOT MODIFY\n",
    "chosen_document = train_texts[np.random.randint(len(train_texts))]"
   ]
  },
  {
   "cell_type": "markdown",
   "id": "ca45d880",
   "metadata": {},
   "source": [
    "## TASK 1.3a\n",
    "\n",
    "Use the HuggingFace transformers library to load the pretrained BERT model \"prajjwal1/bert-tiny\". Obtain a document embedding for the chosen document given above. Comment your code to explain how it obtains a representation of the document.    (3 marks)"
   ]
  },
  {
   "cell_type": "code",
   "execution_count": 19,
   "id": "1266cce6",
   "metadata": {},
   "outputs": [
    {
     "name": "stdout",
     "output_type": "stream",
     "text": [
      "[0.4747985303401947, 1.2661957740783691, -3.4104769229888916, -1.080893635749817, 0.39652612805366516, 0.4834730923175812, 0.30706390738487244, 1.4382047653198242, -0.19037285447120667, 0.5196099877357483, -0.25119709968566895, 0.7267217636108398, 0.8338472843170166, 0.0947263315320015, 0.6013916730880737, -1.729634165763855, -0.656603991985321, -0.8343584537506104, -1.1604818105697632, 1.4354984760284424, 0.6885497570037842, 0.9558952450752258, 2.655642032623291, 0.4720432460308075, 3.004547357559204, -0.8522915840148926, -0.48422691226005554, -0.3300834596157074, -0.16244348883628845, 1.4378259181976318, 0.0695171058177948, -0.8538330793380737, -0.648266077041626, -0.5296088457107544, -0.35218361020088196, -1.124722957611084, 0.20461539924144745, 0.40405794978141785, -1.4916101694107056, -0.17619588971138, 0.12367746233940125, 0.1453671008348465, 0.27699795365333557, -1.8794676065444946, -0.1967117190361023, -2.053748369216919, -1.270451545715332, 0.28574204444885254, 0.11346448957920074, -0.5561137199401855, 0.200482577085495, 3.530423164367676, -0.5948969721794128, 0.14835068583488464, -0.28087112307548523, -0.6093142032623291, 0.05218922346830368, -0.1581692099571228, -0.26722604036331177, 3.099686622619629, 0.025006473064422607, 0.46114468574523926, -3.062093496322632, -0.32401928305625916, -1.5914486646652222, 1.5439082384109497, 0.15340110659599304, -0.3339148163795471, -0.5901086330413818, -0.8214408159255981, -1.8159462213516235, -0.16327442228794098, 0.647646963596344, 0.33456847071647644, -0.8641092777252197, -0.050685107707977295, 1.0804332494735718, 0.1088053360581398, 0.5535848736763, -0.5343860387802124, -1.4501850605010986, -0.482089638710022, -0.27529820799827576, 1.289168119430542, -0.2577113211154938, -0.11307895928621292, 0.9290033578872681, -0.16519877314567566, 0.9687075018882751, -1.5990285873413086, 1.8385616540908813, -0.8435017466545105, -1.0866590738296509, 0.7854083180427551, -0.9620491862297058, 0.5517470836639404, -1.0667659044265747, -1.0381007194519043, -0.5488227605819702, 0.6700683832168579, 0.7787625789642334, 0.6780382394790649, -0.5648533701896667, -0.09911330789327621, 0.02512495219707489, -1.1069923639297485, 1.4534863233566284, -0.8749940991401672, 0.10756570100784302, -0.4177776873111725, 0.3648640513420105, -0.42407095432281494, -0.7769757509231567, -0.07377570867538452, -0.37116140127182007, 1.2957621812820435, 0.05988389998674393, 0.3508872985839844, 0.44847869873046875, 0.6477819681167603, 0.5118476152420044, 1.1328871250152588, 0.6083412766456604, 0.45460474491119385, -1.5972039699554443, -2.40435528755188, -2.268209934234619, 0.7533517479896545]\n"
     ]
    }
   ],
   "source": [
    "### DO NOT MODIFY\n",
    "chosen_document = train_texts[np.random.randint(len(train_texts))]\n",
    "### DO NOT MODIFY\n",
    "set_seed(my_student_number)\n",
    "###\n",
    "\n",
    "### WRITE YOUR ANSWER HERE\n",
    "from transformers import AutoTokenizer, AutoModel\n",
    "import torch\n",
    "\n",
    "# Loading the tokenizer for the pretrained BERT model\n",
    "tokenizer = AutoTokenizer.from_pretrained(\"prajjwal1/bert-tiny\")\n",
    "\n",
    "# Loading the BERT model for generating hidden representations\n",
    "model = AutoModel.from_pretrained(\"prajjwal1/bert-tiny\")\n",
    "\n",
    "# Tokenizing the chosen document and converting it into input tensors\n",
    "inputs = tokenizer(chosen_document, return_tensors=\"pt\", truncation=True, padding='max_length', max_length=512)\n",
    "\n",
    "# Passing the inputs through the model to get the output embeddings\n",
    "with torch.no_grad():\n",
    "    outputs = model(**inputs)\n",
    "\n",
    "# Taking the embedding of the [CLS] token as the overall document representation\n",
    "cls_embedding = outputs.last_hidden_state[:,0,:]\n",
    "\n",
    "# Storing the document embedding in the required variable\n",
    "doc_emb = []  # useing this variable to store the document embedding\n",
    "doc_emb = cls_embedding.squeeze().tolist()\n",
    "### END OF ANSWER\n",
    "\n",
    "### DO NOT MODIFY\n",
    "pd.DataFrame(doc_emb).to_csv('./outputs/13a_sen_emb.csv')\n",
    "print(doc_emb)\n",
    "###\n"
   ]
  },
  {
   "cell_type": "markdown",
   "id": "aa93e1d9",
   "metadata": {},
   "source": [
    "## TASK 1.3b\n",
    "\n",
    "Using the same document embeddings method as the previous task, find the most similar document to the 'chosen_document' from within the validation set (from the 'val_texts' object). Use a standard similarity metric that considers the direction but not the magnitude of the embedding vectors. Use the same model as in task 1.8.  (2 marks)"
   ]
  },
  {
   "cell_type": "code",
   "execution_count": 22,
   "id": "19d97094",
   "metadata": {},
   "outputs": [
    {
     "name": "stdout",
     "output_type": "stream",
     "text": [
      "We are developing an operational carbon accounting data infrastructure: a prototype that calculates carbon intensities and footprints across a variety of metrics (see metrics section for more details). The calculations are based on emissions data of scope 1 and 2, and selected scope 3 data.\n",
      "Currently, all three private equity strategies diligence our current and prospective General Partners for Energy Efficiency, Water Usage and Natural Resource Usage as part of the Capital Dynamics R-EyeTM Rating. Our plan is to expand these factors over the next twelve months and formally consider measuring the results, once we have enough data for a meaningful analysis. The next phase of the plan will contemplate how to apply a weighting system to data collected from relevant Climate R-EyeTM Rating questions.\n"
     ]
    }
   ],
   "source": [
    "### DO NOT MODIFY\n",
    "set_seed(my_student_number)\n",
    "###\n",
    "\n",
    "### WRITE YOUR ANSWER HERE\n",
    "from sklearn.metrics.pairwise import cosine_similarity\n",
    "\n",
    "# Getting the embedding for the chosen document using [CLS] token\n",
    "inputs = tokenizer(chosen_document, return_tensors=\"pt\", truncation=True, padding='max_length', max_length=512)\n",
    "with torch.no_grad():\n",
    "    outputs = model(**inputs)\n",
    "chosen_emb = outputs.last_hidden_state[:,0,:].squeeze().unsqueeze(0)\n",
    "\n",
    "# Creating a list to store embeddings for validation documents\n",
    "val_embeddings = []\n",
    "\n",
    "# Looping through each validation document and computing its embedding\n",
    "for doc in val_texts:\n",
    "    val_inputs = tokenizer(doc, return_tensors=\"pt\", truncation=True, padding='max_length', max_length=512)\n",
    "    with torch.no_grad():\n",
    "        val_outputs = model(**val_inputs)\n",
    "    val_cls_emb = val_outputs.last_hidden_state[:,0,:].squeeze()\n",
    "    val_embeddings.append(val_cls_emb.numpy())\n",
    "\n",
    "# Computing cosine similarities between the chosen document and validation documents\n",
    "similarities = cosine_similarity(chosen_emb.numpy(), val_embeddings)\n",
    "\n",
    "# Finding the index of the most similar document\n",
    "most_similar_idx = similarities.argmax()\n",
    "\n",
    "# Storing the most similar document\n",
    "most_similar_doc = \"\"  # use this variable to store the most similar document\n",
    "most_similar_doc = val_texts[most_similar_idx]\n",
    "### END OF ANSWER\n",
    "\n",
    "### DO NOT MODIFY\n",
    "pd.DataFrame([chosen_document, most_similar_doc]).to_csv(\"./outputs/13b_most_similar.csv\")\n",
    "print(chosen_document)\n",
    "print(most_similar_doc)\n",
    "###\n"
   ]
  },
  {
   "cell_type": "markdown",
   "id": "89641896",
   "metadata": {},
   "source": [
    "## TASK 1.3c\n",
    "\n",
    "Implement a classifier based on the same pretrained transformer model, \"prajjwal1/bert-tiny\". Evaluate your model's performance on the validation set. Use an 'auto class' from HuggingFace to build your classifier (see https://huggingface.co/docs/transformers/model_doc/auto).   (6 marks)"
   ]
  },
  {
   "cell_type": "code",
   "execution_count": 35,
   "id": "63f2118b-7295-4fd0-be7e-d3ed5ca6f868",
   "metadata": {},
   "outputs": [
    {
     "name": "stderr",
     "output_type": "stream",
     "text": [
      "Some weights of BertForSequenceClassification were not initialized from the model checkpoint at prajjwal1/bert-tiny and are newly initialized: ['classifier.bias', 'classifier.weight']\n",
      "You should probably TRAIN this model on a down-stream task to be able to use it for predictions and inference.\n"
     ]
    },
    {
     "name": "stdout",
     "output_type": "stream",
     "text": [
      "0.755\n"
     ]
    }
   ],
   "source": [
    "### DO NOT MODIFY\n",
    "set_seed(my_student_number)\n",
    "###\n",
    "\n",
    "### WRITE YOUR ANSWER HERE\n",
    "from transformers import AutoTokenizer, AutoModelForSequenceClassification\n",
    "from torch.utils.data import DataLoader, TensorDataset\n",
    "from torch.optim import AdamW\n",
    "import torch\n",
    "import numpy as np\n",
    "\n",
    "# Tokenizing training and validation sets\n",
    "tokenizer = AutoTokenizer.from_pretrained(\"prajjwal1/bert-tiny\")\n",
    "model = AutoModelForSequenceClassification.from_pretrained(\"prajjwal1/bert-tiny\", num_labels=len(set(train_dataset[\"label\"])))\n",
    "\n",
    "train_enc = tokenizer(train_dataset[\"text\"], padding=True, truncation=True, max_length=512, return_tensors=\"pt\")\n",
    "train_labels = torch.tensor(train_dataset[\"label\"])\n",
    "train_data = TensorDataset(train_enc[\"input_ids\"], train_enc[\"attention_mask\"], train_labels)\n",
    "train_loader = DataLoader(train_data, batch_size=16, shuffle=True)\n",
    "\n",
    "val_enc = tokenizer(val_dataset[\"text\"], padding=True, truncation=True, max_length=512, return_tensors=\"pt\")\n",
    "val_labels = torch.tensor(val_dataset[\"label\"])\n",
    "val_data = TensorDataset(val_enc[\"input_ids\"], val_enc[\"attention_mask\"], val_labels)\n",
    "val_loader = DataLoader(val_data, batch_size=32)\n",
    "\n",
    "# Optimizer\n",
    "optimizer = AdamW(model.parameters(), lr=5e-5)\n",
    "\n",
    "# Training loop\n",
    "model.train()\n",
    "for epoch in range(3):\n",
    "    for input_ids, attention_mask, labels in train_loader:\n",
    "        outputs = model(input_ids=input_ids, attention_mask=attention_mask, labels=labels)\n",
    "        loss = outputs.loss\n",
    "        loss.backward()\n",
    "        optimizer.step()\n",
    "        optimizer.zero_grad()\n",
    "\n",
    "# Evaluation\n",
    "model.eval()\n",
    "predictions_bert = []  # use this variable to store the predicted labels for the validation set\n",
    "with torch.no_grad():\n",
    "    for input_ids, attention_mask, labels in val_loader:\n",
    "        outputs = model(input_ids=input_ids, attention_mask=attention_mask)\n",
    "        preds = torch.argmax(outputs.logits, dim=1)\n",
    "        predictions_bert.extend(preds.tolist())\n",
    "### END OF ANSWER\n",
    "\n",
    "### DO NOT MODIFY\n",
    "pd.DataFrame(predictions_bert).to_csv('./outputs/13c_bert_preds.csv')\n",
    "accuracy_tinybert = accuracy_score(val_dataset[\"label\"], predictions_bert)\n",
    "print(accuracy_tinybert)\n",
    "###\n"
   ]
  },
  {
   "cell_type": "code",
   "execution_count": null,
   "id": "376ca54b-b608-4053-8e4e-6f910577fa40",
   "metadata": {},
   "outputs": [],
   "source": []
  }
 ],
 "metadata": {
  "kernelspec": {
   "display_name": "Python 3 (ipykernel)",
   "language": "python",
   "name": "python3"
  },
  "language_info": {
   "codemirror_mode": {
    "name": "ipython",
    "version": 3
   },
   "file_extension": ".py",
   "mimetype": "text/x-python",
   "name": "python",
   "nbconvert_exporter": "python",
   "pygments_lexer": "ipython3",
   "version": "3.12.7"
  }
 },
 "nbformat": 4,
 "nbformat_minor": 5
}
